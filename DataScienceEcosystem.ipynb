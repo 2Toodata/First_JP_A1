{
 "cells": [
  {
   "cell_type": "markdown",
   "id": "7bbf1e96-360a-4eda-9a22-fef43aa25315",
   "metadata": {},
   "source": [
    "# Data Science Tools and Ecosystem"
   ]
  },
  {
   "cell_type": "markdown",
   "id": "6e48f991-5b4c-487f-953c-2d69325e56ca",
   "metadata": {},
   "source": [
    "In this notebook, Data Science Tools and Ecosystem are summarized."
   ]
  },
  {
   "cell_type": "markdown",
   "id": "5c375351-139b-4198-91f7-f6b2ac0c0596",
   "metadata": {},
   "source": [
    "**Objectives:**\n",
    "- List popular languages for Data Science\n",
    "- List commonly used libraries by Data Science\n",
    "- Table of Data Science Tools\n",
    "- Introduce arithmetic expression"
   ]
  },
  {
   "cell_type": "markdown",
   "id": "2a15d8e5-3f43-428f-a506-f2eb53d660fc",
   "metadata": {},
   "source": [
    "Some of the popular languages that Data Scientists use are:\n",
    "1.  Python\n",
    "2.  R\n",
    "3.  SQL\n",
    "4.  Scala\n",
    "5.  Java\n",
    "6.  C++\n",
    "7.  Julia"
   ]
  },
  {
   "cell_type": "markdown",
   "id": "ae482e0b-13a9-4885-acca-a8f39197681e",
   "metadata": {},
   "source": [
    "Some of the commonly used libraries used by Data Scientists include:\n",
    "1. Pandas\n",
    "2. NumPy\n",
    "3. SciPy\n",
    "4. Matplotlib"
   ]
  },
  {
   "cell_type": "markdown",
   "id": "4a08f50e-3aaf-4653-8bcc-13f27ca11a50",
   "metadata": {},
   "source": [
    "|Data Science Tools\n",
    "|-------------------\n",
    "| Rstudio\n",
    "| Jupyter Notebook\n",
    "| Vscode"
   ]
  },
  {
   "cell_type": "markdown",
   "id": "5d4612cf-7c0a-42da-bee3-d58233c7f857",
   "metadata": {},
   "source": [
    "### Below are a few examples of evaluating arithmetic expressions in Python"
   ]
  },
  {
   "cell_type": "code",
   "execution_count": 1,
   "id": "d7b4d4ea-b5f9-407f-b72a-ea7b8a63fff2",
   "metadata": {},
   "outputs": [
    {
     "data": {
      "text/plain": [
       "17"
      ]
     },
     "execution_count": 1,
     "metadata": {},
     "output_type": "execute_result"
    }
   ],
   "source": [
    "(3*4)+5 #This a simple arithmetic expression to mutiply then add integers"
   ]
  },
  {
   "cell_type": "code",
   "execution_count": 2,
   "id": "d3b0cb38-de38-4af3-a7ff-3151ff9da986",
   "metadata": {},
   "outputs": [
    {
     "data": {
      "text/plain": [
       "3.3333333333333335"
      ]
     },
     "execution_count": 2,
     "metadata": {},
     "output_type": "execute_result"
    }
   ],
   "source": [
    "200/60 #This will convert 200 minutes to hours by diving by 60"
   ]
  },
  {
   "cell_type": "markdown",
   "id": "1c03a8ca-0a4d-42a7-aca6-e64a9fed4ffe",
   "metadata": {},
   "source": [
    "## Author\n",
    "Taiwo"
   ]
  },
  {
   "cell_type": "code",
   "execution_count": null,
   "id": "34c91c06-3941-4b8b-8ec2-7c548fd32dac",
   "metadata": {},
   "outputs": [],
   "source": []
  }
 ],
 "metadata": {
  "kernelspec": {
   "display_name": "Python 3 (ipykernel)",
   "language": "python",
   "name": "python3"
  },
  "language_info": {
   "codemirror_mode": {
    "name": "ipython",
    "version": 3
   },
   "file_extension": ".py",
   "mimetype": "text/x-python",
   "name": "python",
   "nbconvert_exporter": "python",
   "pygments_lexer": "ipython3",
   "version": "3.12.8"
  }
 },
 "nbformat": 4,
 "nbformat_minor": 5
}
